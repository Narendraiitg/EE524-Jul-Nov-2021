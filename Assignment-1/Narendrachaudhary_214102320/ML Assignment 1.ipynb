{
 "cells": [
  {
   "cell_type": "markdown",
   "id": "ee3f9b18",
   "metadata": {},
   "source": [
    "# Assignment 1"
   ]
  },
  {
   "cell_type": "markdown",
   "id": "3b2e3b30",
   "metadata": {},
   "source": [
    "Quest:1 Print 'Hello World!'"
   ]
  },
  {
   "cell_type": "code",
   "execution_count": 1,
   "id": "96bb4eca",
   "metadata": {},
   "outputs": [
    {
     "name": "stdout",
     "output_type": "stream",
     "text": [
      "Hello World!\n"
     ]
    }
   ],
   "source": [
    "print('Hello World!')"
   ]
  },
  {
   "cell_type": "markdown",
   "id": "3137c579",
   "metadata": {},
   "source": [
    "Ques:2 User input two numbers a and b. Perform the following algebric operations c=a+b, d=a-b, e=a*b, f=a\\b and g=a%b and print their results."
   ]
  },
  {
   "cell_type": "code",
   "execution_count": 2,
   "id": "a112dd7d",
   "metadata": {},
   "outputs": [
    {
     "name": "stdout",
     "output_type": "stream",
     "text": [
      "3\n",
      "5\n",
      "8\n",
      "-2\n",
      "15\n",
      "0.6\n",
      "3\n"
     ]
    }
   ],
   "source": [
    "a=int(input()) ##user input a\n",
    "b=int(input()) ##user input b\n",
    "print(a+b) ## adding a and b\n",
    "print(a-b) ## substruction of a and b\n",
    "print(a*b) ## multiplication of a and b\n",
    "print(a/b) ## a divided by b\n",
    "print(a%b) ## a mod b"
   ]
  },
  {
   "cell_type": "markdown",
   "id": "d5c4f3aa",
   "metadata": {},
   "source": [
    "Ques:3 Find the factorial of a number ’num’ and print the result."
   ]
  },
  {
   "cell_type": "code",
   "execution_count": 3,
   "id": "350a0eb2",
   "metadata": {},
   "outputs": [
    {
     "name": "stdout",
     "output_type": "stream",
     "text": [
      "Enter the number5\n",
      "factoril= 120\n"
     ]
    }
   ],
   "source": [
    "num=int(input(\"Enter the number\")) ## user input 'num'\n",
    "fac=1 ## variable named fac set at one\n",
    "while num>1: ## condition for entring the loop\n",
    " fac=fac*num\n",
    " num=num-1\n",
    "print(\"factoril=\",fac) ## Gives the result after terminating the while loop\n"
   ]
  },
  {
   "cell_type": "markdown",
   "id": "c9c851b6",
   "metadata": {},
   "source": [
    "Ques:4 Take two user inputs a and b. Write a program to print all the prime\n",
    "numbers in the interval [a,b]."
   ]
  },
  {
   "cell_type": "code",
   "execution_count": 4,
   "id": "5b76fe5a",
   "metadata": {},
   "outputs": [
    {
     "name": "stdout",
     "output_type": "stream",
     "text": [
      "Enter the lowest number:5\n",
      "Enter the upper number:20\n",
      "5\n",
      "7\n",
      "11\n",
      "13\n",
      "17\n",
      "19\n"
     ]
    }
   ],
   "source": [
    "a=int(input(\"Enter the lowest number:\")) ## user input having the lowest number\n",
    "b=int(input(\"Enter the upper number:\")) ## user unput having upper number\n",
    "for num in range(a,b+ 1):  ## Preparing the list of numbers from a to b\n",
    "   if num > 1:   ## loop for number greater than one\n",
    "       for i in range(2,num):  \n",
    "           if (num % i) == 0:  \n",
    "               break  ## stop the loop if number is eqaul to one or less\n",
    "       else:  \n",
    "           print(num)  ## generating the result after exiting from the loop"
   ]
  },
  {
   "cell_type": "markdown",
   "id": "df3e573a",
   "metadata": {},
   "source": [
    "Ques:5 Take two user inputs a and b and find their Lowest Common Multiple(LCM)."
   ]
  },
  {
   "cell_type": "code",
   "execution_count": 5,
   "id": "16cf9e2f",
   "metadata": {},
   "outputs": [
    {
     "name": "stdout",
     "output_type": "stream",
     "text": [
      "Enter the value of a: 2\n",
      "Enter the value of b: 4\n",
      "4\n"
     ]
    }
   ],
   "source": [
    "a=int(input(\"Enter the value of a: \")) ## user input a\n",
    "b=int(input(\"Enter the value of b: \")) ## user input b\n",
    "def lcm(a,b): ## defining a function for calculating the LCM of a & b\n",
    "    if a>b: ## checking the user input for higer value\n",
    "        higher=a\n",
    "    else:\n",
    "        higher=b\n",
    "    while (True): ## loop to check all the higher values\n",
    "        if ((higher%a==0) and (higher%b==0)):\n",
    "            lcm=higher\n",
    "            break\n",
    "            higher+=1\n",
    "    return lcm \n",
    "print(lcm(a,b))  ## printing the result"
   ]
  },
  {
   "cell_type": "markdown",
   "id": "80110754",
   "metadata": {},
   "source": [
    "Ques:5 Create a list of length n = 15. Sort the array in descending order and\n",
    "print the sorted List as well as the sorted indices. Use the bubble sort\n",
    "algorithm."
   ]
  },
  {
   "cell_type": "code",
   "execution_count": 2,
   "id": "a0b9cbfe",
   "metadata": {},
   "outputs": [
    {
     "name": "stdout",
     "output_type": "stream",
     "text": [
      "[0, 1, 2, 3, 5, 6, 7, 8, 9, 10, 11, 12, 13, 14, 16]\n"
     ]
    }
   ],
   "source": [
    "a=[2,7,1,0,10,8,3,6,12,16,11,14,9,5,13] ## list of numbers to be sort\n",
    "for j in range(len(a)): ## repeating loop\n",
    "    swapped=False\n",
    "    i=0\n",
    "    while i<len(a)-1:\n",
    "        if a[i]>a[i+1]: ## compairing the adjacent element \n",
    "            a[i],a[i+1] = a[i+1],a[i] ## swaping \n",
    "            swapped = True ## changing the value of swapped\n",
    "        i = i+1 \n",
    "    if swapped == False:\n",
    "        break\n",
    "print(a)\n",
    "        "
   ]
  },
  {
   "cell_type": "code",
   "execution_count": null,
   "id": "79dec914",
   "metadata": {},
   "outputs": [],
   "source": []
  }
 ],
 "metadata": {
  "kernelspec": {
   "display_name": "Python 3",
   "language": "python",
   "name": "python3"
  },
  "language_info": {
   "codemirror_mode": {
    "name": "ipython",
    "version": 3
   },
   "file_extension": ".py",
   "mimetype": "text/x-python",
   "name": "python",
   "nbconvert_exporter": "python",
   "pygments_lexer": "ipython3",
   "version": "3.8.8"
  }
 },
 "nbformat": 4,
 "nbformat_minor": 5
}
